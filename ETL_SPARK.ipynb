{
  "cells": [
    {
      "cell_type": "code",
      "execution_count": null,
      "metadata": {
        "id": "3fzW99GZx3-W",
        "colab": {
          "base_uri": "https://localhost:8080/"
        },
        "outputId": "7fae8dc7-6ab5-44f7-db81-9cc6af90cb79"
      },
      "outputs": [
        {
          "output_type": "stream",
          "name": "stdout",
          "text": [
            "Collecting pyspark\n",
            "  Downloading pyspark-3.2.1.tar.gz (281.4 MB)\n",
            "\u001b[K     |████████████████████████████████| 281.4 MB 34 kB/s \n",
            "\u001b[?25hCollecting py4j==0.10.9.3\n",
            "  Downloading py4j-0.10.9.3-py2.py3-none-any.whl (198 kB)\n",
            "\u001b[K     |████████████████████████████████| 198 kB 49.5 MB/s \n",
            "\u001b[?25hBuilding wheels for collected packages: pyspark\n",
            "  Building wheel for pyspark (setup.py) ... \u001b[?25l\u001b[?25hdone\n",
            "  Created wheel for pyspark: filename=pyspark-3.2.1-py2.py3-none-any.whl size=281853642 sha256=a4b957e5492af2d5da83272e87bffe5c60756cf1cbf0c839cff927de9fe82faa\n",
            "  Stored in directory: /root/.cache/pip/wheels/9f/f5/07/7cd8017084dce4e93e84e92efd1e1d5334db05f2e83bcef74f\n",
            "Successfully built pyspark\n",
            "Installing collected packages: py4j, pyspark\n",
            "Successfully installed py4j-0.10.9.3 pyspark-3.2.1\n"
          ]
        }
      ],
      "source": [
        "#INSTALAÇÃO DO PACOTE PYSPARK\n",
        "!pip install pyspark"
      ]
    },
    {
      "cell_type": "code",
      "execution_count": null,
      "metadata": {
        "id": "5UNltYoeyP4j",
        "colab": {
          "base_uri": "https://localhost:8080/"
        },
        "outputId": "223fad96-9822-4c58-d666-fc74e15a077e"
      },
      "outputs": [
        {
          "output_type": "stream",
          "name": "stdout",
          "text": [
            "Collecting gcsfs\n",
            "  Downloading gcsfs-2022.2.0-py2.py3-none-any.whl (24 kB)\n",
            "Requirement already satisfied: google-auth>=1.2 in /usr/local/lib/python3.7/dist-packages (from gcsfs) (1.35.0)\n",
            "Requirement already satisfied: google-auth-oauthlib in /usr/local/lib/python3.7/dist-packages (from gcsfs) (0.4.6)\n",
            "Collecting fsspec==2022.02.0\n",
            "  Downloading fsspec-2022.2.0-py3-none-any.whl (134 kB)\n",
            "\u001b[?25l\r\u001b[K     |██▍                             | 10 kB 23.4 MB/s eta 0:00:01\r\u001b[K     |████▉                           | 20 kB 30.7 MB/s eta 0:00:01\r\u001b[K     |███████▎                        | 30 kB 32.2 MB/s eta 0:00:01\r\u001b[K     |█████████▊                      | 40 kB 35.8 MB/s eta 0:00:01\r\u001b[K     |████████████▏                   | 51 kB 39.9 MB/s eta 0:00:01\r\u001b[K     |██████████████▋                 | 61 kB 44.9 MB/s eta 0:00:01\r\u001b[K     |█████████████████               | 71 kB 47.6 MB/s eta 0:00:01\r\u001b[K     |███████████████████▍            | 81 kB 38.6 MB/s eta 0:00:01\r\u001b[K     |█████████████████████▉          | 92 kB 40.3 MB/s eta 0:00:01\r\u001b[K     |████████████████████████▎       | 102 kB 42.8 MB/s eta 0:00:01\r\u001b[K     |██████████████████████████▊     | 112 kB 42.8 MB/s eta 0:00:01\r\u001b[K     |█████████████████████████████▏  | 122 kB 42.8 MB/s eta 0:00:01\r\u001b[K     |███████████████████████████████▋| 133 kB 42.8 MB/s eta 0:00:01\r\u001b[K     |████████████████████████████████| 134 kB 42.8 MB/s \n",
            "\u001b[?25hRequirement already satisfied: decorator>4.1.2 in /usr/local/lib/python3.7/dist-packages (from gcsfs) (4.4.2)\n",
            "Collecting aiohttp<4\n",
            "  Downloading aiohttp-3.8.1-cp37-cp37m-manylinux_2_5_x86_64.manylinux1_x86_64.manylinux_2_12_x86_64.manylinux2010_x86_64.whl (1.1 MB)\n",
            "\u001b[K     |████████████████████████████████| 1.1 MB 50.2 MB/s \n",
            "\u001b[?25hRequirement already satisfied: requests in /usr/local/lib/python3.7/dist-packages (from gcsfs) (2.23.0)\n",
            "Requirement already satisfied: google-cloud-storage in /usr/local/lib/python3.7/dist-packages (from gcsfs) (1.18.1)\n",
            "Collecting frozenlist>=1.1.1\n",
            "  Downloading frozenlist-1.3.0-cp37-cp37m-manylinux_2_5_x86_64.manylinux1_x86_64.manylinux_2_17_x86_64.manylinux2014_x86_64.whl (144 kB)\n",
            "\u001b[K     |████████████████████████████████| 144 kB 56.0 MB/s \n",
            "\u001b[?25hCollecting asynctest==0.13.0\n",
            "  Downloading asynctest-0.13.0-py3-none-any.whl (26 kB)\n",
            "Collecting multidict<7.0,>=4.5\n",
            "  Downloading multidict-6.0.2-cp37-cp37m-manylinux_2_17_x86_64.manylinux2014_x86_64.whl (94 kB)\n",
            "\u001b[K     |████████████████████████████████| 94 kB 3.5 MB/s \n",
            "\u001b[?25hRequirement already satisfied: charset-normalizer<3.0,>=2.0 in /usr/local/lib/python3.7/dist-packages (from aiohttp<4->gcsfs) (2.0.12)\n",
            "Collecting aiosignal>=1.1.2\n",
            "  Downloading aiosignal-1.2.0-py3-none-any.whl (8.2 kB)\n",
            "Requirement already satisfied: typing-extensions>=3.7.4 in /usr/local/lib/python3.7/dist-packages (from aiohttp<4->gcsfs) (3.10.0.2)\n",
            "Collecting yarl<2.0,>=1.0\n",
            "  Downloading yarl-1.7.2-cp37-cp37m-manylinux_2_5_x86_64.manylinux1_x86_64.manylinux_2_12_x86_64.manylinux2010_x86_64.whl (271 kB)\n",
            "\u001b[K     |████████████████████████████████| 271 kB 11.1 MB/s \n",
            "\u001b[?25hCollecting async-timeout<5.0,>=4.0.0a3\n",
            "  Downloading async_timeout-4.0.2-py3-none-any.whl (5.8 kB)\n",
            "Requirement already satisfied: attrs>=17.3.0 in /usr/local/lib/python3.7/dist-packages (from aiohttp<4->gcsfs) (21.4.0)\n",
            "Requirement already satisfied: rsa<5,>=3.1.4 in /usr/local/lib/python3.7/dist-packages (from google-auth>=1.2->gcsfs) (4.8)\n",
            "Requirement already satisfied: pyasn1-modules>=0.2.1 in /usr/local/lib/python3.7/dist-packages (from google-auth>=1.2->gcsfs) (0.2.8)\n",
            "Requirement already satisfied: cachetools<5.0,>=2.0.0 in /usr/local/lib/python3.7/dist-packages (from google-auth>=1.2->gcsfs) (4.2.4)\n",
            "Requirement already satisfied: six>=1.9.0 in /usr/local/lib/python3.7/dist-packages (from google-auth>=1.2->gcsfs) (1.15.0)\n",
            "Requirement already satisfied: setuptools>=40.3.0 in /usr/local/lib/python3.7/dist-packages (from google-auth>=1.2->gcsfs) (57.4.0)\n",
            "Requirement already satisfied: pyasn1<0.5.0,>=0.4.6 in /usr/local/lib/python3.7/dist-packages (from pyasn1-modules>=0.2.1->google-auth>=1.2->gcsfs) (0.4.8)\n",
            "Requirement already satisfied: idna>=2.0 in /usr/local/lib/python3.7/dist-packages (from yarl<2.0,>=1.0->aiohttp<4->gcsfs) (2.10)\n",
            "Requirement already satisfied: requests-oauthlib>=0.7.0 in /usr/local/lib/python3.7/dist-packages (from google-auth-oauthlib->gcsfs) (1.3.1)\n",
            "Requirement already satisfied: oauthlib>=3.0.0 in /usr/local/lib/python3.7/dist-packages (from requests-oauthlib>=0.7.0->google-auth-oauthlib->gcsfs) (3.2.0)\n",
            "Requirement already satisfied: urllib3!=1.25.0,!=1.25.1,<1.26,>=1.21.1 in /usr/local/lib/python3.7/dist-packages (from requests->gcsfs) (1.24.3)\n",
            "Requirement already satisfied: certifi>=2017.4.17 in /usr/local/lib/python3.7/dist-packages (from requests->gcsfs) (2021.10.8)\n",
            "Requirement already satisfied: chardet<4,>=3.0.2 in /usr/local/lib/python3.7/dist-packages (from requests->gcsfs) (3.0.4)\n",
            "Requirement already satisfied: google-cloud-core<2.0dev,>=1.0.0 in /usr/local/lib/python3.7/dist-packages (from google-cloud-storage->gcsfs) (1.0.3)\n",
            "Requirement already satisfied: google-resumable-media<0.5.0dev,>=0.3.1 in /usr/local/lib/python3.7/dist-packages (from google-cloud-storage->gcsfs) (0.4.1)\n",
            "Requirement already satisfied: google-api-core<2.0.0dev,>=1.14.0 in /usr/local/lib/python3.7/dist-packages (from google-cloud-core<2.0dev,>=1.0.0->google-cloud-storage->gcsfs) (1.26.3)\n",
            "Requirement already satisfied: googleapis-common-protos<2.0dev,>=1.6.0 in /usr/local/lib/python3.7/dist-packages (from google-api-core<2.0.0dev,>=1.14.0->google-cloud-core<2.0dev,>=1.0.0->google-cloud-storage->gcsfs) (1.55.0)\n",
            "Requirement already satisfied: pytz in /usr/local/lib/python3.7/dist-packages (from google-api-core<2.0.0dev,>=1.14.0->google-cloud-core<2.0dev,>=1.0.0->google-cloud-storage->gcsfs) (2018.9)\n",
            "Requirement already satisfied: packaging>=14.3 in /usr/local/lib/python3.7/dist-packages (from google-api-core<2.0.0dev,>=1.14.0->google-cloud-core<2.0dev,>=1.0.0->google-cloud-storage->gcsfs) (21.3)\n",
            "Requirement already satisfied: protobuf>=3.12.0 in /usr/local/lib/python3.7/dist-packages (from google-api-core<2.0.0dev,>=1.14.0->google-cloud-core<2.0dev,>=1.0.0->google-cloud-storage->gcsfs) (3.17.3)\n",
            "Requirement already satisfied: pyparsing!=3.0.5,>=2.0.2 in /usr/local/lib/python3.7/dist-packages (from packaging>=14.3->google-api-core<2.0.0dev,>=1.14.0->google-cloud-core<2.0dev,>=1.0.0->google-cloud-storage->gcsfs) (3.0.7)\n",
            "Installing collected packages: multidict, frozenlist, yarl, asynctest, async-timeout, aiosignal, fsspec, aiohttp, gcsfs\n",
            "Successfully installed aiohttp-3.8.1 aiosignal-1.2.0 async-timeout-4.0.2 asynctest-0.13.0 frozenlist-1.3.0 fsspec-2022.2.0 gcsfs-2022.2.0 multidict-6.0.2 yarl-1.7.2\n"
          ]
        }
      ],
      "source": [
        "# INSTALAÇÃO DO  GOOGLE CLOUD\n",
        "!pip install gcsfs"
      ]
    },
    {
      "cell_type": "code",
      "execution_count": null,
      "metadata": {
        "id": "LWuaZEdayQi5"
      },
      "outputs": [],
      "source": [
        "# Instalação dos pacotes\n",
        "from pyspark.sql import SparkSession\n",
        "from pyspark import SparkConf\n",
        "import pyspark.sql.functions as F\n",
        "import pandas as pd\n",
        "from google.cloud import storage\n",
        "import os\n",
        "from pyspark.sql.types import *\n",
        "from pyspark.sql.window import Window\n"
      ]
    },
    {
      "cell_type": "code",
      "execution_count": null,
      "metadata": {
        "colab": {
          "base_uri": "https://localhost:8080/"
        },
        "id": "7UxJLwh6DP9I",
        "outputId": "49b76a19-62e4-4355-fa97-f30cd82e657a"
      },
      "outputs": [
        {
          "output_type": "stream",
          "name": "stdout",
          "text": [
            "Mounted at /content/drive\n"
          ]
        }
      ],
      "source": [
        "# ESTABELEÇO A MONTAGEM DO DRIVE\n",
        "from google.colab import drive\n",
        "drive.mount('/content/drive')"
      ]
    },
    {
      "cell_type": "code",
      "execution_count": null,
      "metadata": {
        "id": "6pzUuIYDybdv"
      },
      "outputs": [],
      "source": [
        "# VALIDO A CONEXÃO COM O \n",
        "serviceAccount = '/content/plasma-geode-339918-e47bf06e25cf.json'\n",
        "\n",
        "os.environ['GOOGLE_APPLICATION_CREDENTIALS'] = serviceAccount\n"
      ]
    },
    {
      "cell_type": "code",
      "execution_count": null,
      "metadata": {
        "id": "Pgjs3YRA4pBT"
      },
      "outputs": [],
      "source": [
        "client = storage.Client()\n",
        "\n",
        "#CRIAR UMA VARIÁVEL CHAMADA BUCKET QUE VAI RECEBER O NOME DA BUCKET DO CLOUD STORAGE\n",
        "bucket = client.get_bucket('individualproject')\n",
        "#USAR O MÉTODO BLOB PARA RETORNAR O NOME DO ARQUIVO (JSON, CSV, PARQUET)\n",
        "bucket.blob('marketing_campaign.csv')\n",
        "#CRIA UMA VARIÁVEL PATH PARA COLOCAR O CAMINHO DO CSV\n",
        "path = 'gs://individualproject/Original/marketing_campaign.csv'\n",
        "df_pandas = pd.read_csv(path, sep=',')"
      ]
    },
    {
      "cell_type": "code",
      "execution_count": null,
      "metadata": {
        "id": "bnRuvJN9yblw"
      },
      "outputs": [],
      "source": [
        "# ESTABELECE A CONEXÃO ENTRE SPAYPARK COM COLLAB (4050) /GCP \n",
        "spark = (\n",
        "    SparkSession.builder\n",
        "                .master('local')\n",
        "                .appName('cloudStorage')\n",
        "                .config('spark.ui.port', '4050')\n",
        "                .config(\"spark.jars\", 'https://storage.googleapis.com/hadoop-lib/gcs/gcs-connector-hadoop2-latest.jar')\n",
        "                .getOrCreate()\n",
        ")"
      ]
    },
    {
      "cell_type": "code",
      "source": [
        ""
      ],
      "metadata": {
        "id": "6DZxQREcnJnH"
      },
      "execution_count": null,
      "outputs": []
    },
    {
      "cell_type": "code",
      "execution_count": null,
      "metadata": {
        "colab": {
          "base_uri": "https://localhost:8080/",
          "height": 219
        },
        "id": "O6djrlnM4oaX",
        "outputId": "9fc6c810-f473-4618-ec0a-f1180e8bf578"
      },
      "outputs": [
        {
          "output_type": "execute_result",
          "data": {
            "text/plain": [
              "<pyspark.sql.session.SparkSession at 0x7f081e13ce10>"
            ],
            "text/html": [
              "\n",
              "            <div>\n",
              "                <p><b>SparkSession - in-memory</b></p>\n",
              "                \n",
              "        <div>\n",
              "            <p><b>SparkContext</b></p>\n",
              "\n",
              "            <p><a href=\"http://51abd572a6f4:4050\">Spark UI</a></p>\n",
              "\n",
              "            <dl>\n",
              "              <dt>Version</dt>\n",
              "                <dd><code>v3.2.1</code></dd>\n",
              "              <dt>Master</dt>\n",
              "                <dd><code>local</code></dd>\n",
              "              <dt>AppName</dt>\n",
              "                <dd><code>cloudStorage</code></dd>\n",
              "            </dl>\n",
              "        </div>\n",
              "        \n",
              "            </div>\n",
              "        "
            ]
          },
          "metadata": {},
          "execution_count": 9
        }
      ],
      "source": [
        "# CONEXÃO OK COM SPARK\n",
        "spark"
      ]
    },
    {
      "cell_type": "code",
      "execution_count": null,
      "metadata": {
        "colab": {
          "base_uri": "https://localhost:8080/"
        },
        "id": "2G98LOnuZHlZ",
        "outputId": "76cca3a4-2c46-48bf-fc1f-c84ec6e58f80"
      },
      "outputs": [
        {
          "output_type": "stream",
          "name": "stdout",
          "text": [
            "root\n",
            " |-- ID: integer (nullable = true)\n",
            " |-- Year_Birth: integer (nullable = true)\n",
            " |-- Education: string (nullable = true)\n",
            " |-- Marital_Status: string (nullable = true)\n",
            " |-- Income: integer (nullable = true)\n",
            " |-- Kidhome: integer (nullable = true)\n",
            " |-- Teenhome: integer (nullable = true)\n",
            " |-- Dt_Customer: string (nullable = true)\n",
            " |-- Recency: integer (nullable = true)\n",
            " |-- MntWines: integer (nullable = true)\n",
            " |-- MntFruits: integer (nullable = true)\n",
            " |-- MntMeatProducts: integer (nullable = true)\n",
            " |-- MntFishProducts: integer (nullable = true)\n",
            " |-- MntSweetProducts: integer (nullable = true)\n",
            " |-- MntGoldProds: integer (nullable = true)\n",
            " |-- NumDealsPurchases: integer (nullable = true)\n",
            " |-- NumWebPurchases: integer (nullable = true)\n",
            " |-- NumCatalogPurchases: integer (nullable = true)\n",
            " |-- NumStorePurchases: integer (nullable = true)\n",
            " |-- NumWebVisitsMonth: integer (nullable = true)\n",
            " |-- AcceptedCmp3: integer (nullable = true)\n",
            " |-- AcceptedCmp4: integer (nullable = true)\n",
            " |-- AcceptedCmp5: integer (nullable = true)\n",
            " |-- AcceptedCmp1: integer (nullable = true)\n",
            " |-- AcceptedCmp2: integer (nullable = true)\n",
            " |-- Complain: integer (nullable = true)\n",
            " |-- Z_CostContact: integer (nullable = true)\n",
            " |-- Z_Revenue: integer (nullable = true)\n",
            " |-- Response: integer (nullable = true)\n",
            "\n"
          ]
        }
      ],
      "source": [
        "# CHAMEI DIRETO DA GCP O ARQUIVO .CSV SEM TRANSFORMAR EM PANDAS.\n",
        "df = ( spark.read\n",
        "            .format(\"csv\")\n",
        "            .option(\"header\", \"true\")\n",
        "            .option(\"inferschema\", \"true\")\n",
        "            .option(\"delimiter\", \",\")\n",
        "            .load(path)\n",
        "      \n",
        ")\n",
        "df.printSchema()"
      ]
    },
    {
      "cell_type": "code",
      "execution_count": null,
      "metadata": {
        "id": "xVVX3LWzhN03"
      },
      "outputs": [],
      "source": [
        "#CRIANDO SCHEMAS UTILIZANDO STRUCT TYPE\n",
        "schema = StructType([\n",
        "                 StructField('ID', IntegerType(), True),   \n",
        "                 StructField('Year_Birth', IntegerType(), True),\n",
        "                 StructField('Education', StringType(), True),\n",
        "                 StructField('Marital_Status', StringType(), True),\n",
        "                 StructField('Income', DoubleType(), True),\n",
        "                 StructField('Kidhome', IntegerType(), True),\n",
        "                 StructField('Qtd_adolescente', IntegerType(), True),\n",
        "                 StructField('Teenhome', IntegerType(), True),\n",
        "                 StructField('Dt_Customer', StringType(), True),\n",
        "                 StructField('Recency', IntegerType(), True),\n",
        "                 StructField('MntWines', IntegerType(), True),\n",
        "                 StructField('MntFruits', IntegerType(), True),\n",
        "                 StructField('MntMeatProducts', IntegerType(), True),\n",
        "                 StructField('MntFishProducts', IntegerType(), True),\n",
        "                 StructField('MntSweetProducts', IntegerType(), True),\n",
        "                 StructField('MntGoldProds', IntegerType(), True),\n",
        "                 StructField('NumDealsPurchases', IntegerType(), True),\n",
        "                 StructField('NumWebPurchases', IntegerType(), True),\n",
        "                 StructField('NumCatalogPurchases', IntegerType(), True),\n",
        "                 StructField('NumStorePurchases', IntegerType(), True),\n",
        "                 StructField('NumWebVisitsMonth', StringType(), True),\n",
        "                 StructField('AcceptedCmp3', IntegerType(), True),\n",
        "                 StructField('AcceptedCmp4', IntegerType(), True),\n",
        "                 StructField('AcceptedCmp5', IntegerType(), True),\n",
        "                 StructField('AcceptedCmp1', IntegerType(), True),\n",
        "                 StructField('AcceptedCmp2', IntegerType(), True),\n",
        "                 StructField('Complain', IntegerType(), True),\n",
        "                 StructField('Z_CostContact', IntegerType(), True),\n",
        "                 StructField('Z_Revenue', IntegerType(), True),\n",
        "                 StructField('Response', IntegerType(), True),\n",
        "\n",
        "]   \n",
        ")\n"
      ]
    },
    {
      "cell_type": "code",
      "execution_count": null,
      "metadata": {
        "id": "9ro-JPsXFDnc",
        "colab": {
          "base_uri": "https://localhost:8080/"
        },
        "outputId": "6ba7256c-c486-4120-859d-8884a36c8811"
      },
      "outputs": [
        {
          "output_type": "stream",
          "name": "stdout",
          "text": [
            "root\n",
            " |-- ID: integer (nullable = true)\n",
            " |-- Year_Birth: integer (nullable = true)\n",
            " |-- Education: string (nullable = true)\n",
            " |-- Marital_Status: string (nullable = true)\n",
            " |-- Income: integer (nullable = true)\n",
            " |-- Kidhome: integer (nullable = true)\n",
            " |-- Teenhome: integer (nullable = true)\n",
            " |-- Dt_Customer: string (nullable = true)\n",
            " |-- Recency: integer (nullable = true)\n",
            " |-- MntWines: integer (nullable = true)\n",
            " |-- MntFruits: integer (nullable = true)\n",
            " |-- MntMeatProducts: integer (nullable = true)\n",
            " |-- MntFishProducts: integer (nullable = true)\n",
            " |-- MntSweetProducts: integer (nullable = true)\n",
            " |-- MntGoldProds: integer (nullable = true)\n",
            " |-- NumDealsPurchases: integer (nullable = true)\n",
            " |-- NumWebPurchases: integer (nullable = true)\n",
            " |-- NumCatalogPurchases: integer (nullable = true)\n",
            " |-- NumStorePurchases: integer (nullable = true)\n",
            " |-- NumWebVisitsMonth: integer (nullable = true)\n",
            " |-- AcceptedCmp3: integer (nullable = true)\n",
            " |-- AcceptedCmp4: integer (nullable = true)\n",
            " |-- AcceptedCmp5: integer (nullable = true)\n",
            " |-- AcceptedCmp1: integer (nullable = true)\n",
            " |-- AcceptedCmp2: integer (nullable = true)\n",
            " |-- Complain: integer (nullable = true)\n",
            " |-- Z_CostContact: integer (nullable = true)\n",
            " |-- Z_Revenue: integer (nullable = true)\n",
            " |-- Response: integer (nullable = true)\n",
            "\n"
          ]
        }
      ],
      "source": [
        "#RETORNA O SCHEMA DO DATAFRAME\n",
        "df.printSchema()"
      ]
    },
    {
      "cell_type": "code",
      "execution_count": null,
      "metadata": {
        "id": "jwn4dGAJhN9M",
        "colab": {
          "base_uri": "https://localhost:8080/"
        },
        "outputId": "a66a7fba-d9fd-490f-9428-5117dedcc5f3"
      },
      "outputs": [
        {
          "output_type": "stream",
          "name": "stdout",
          "text": [
            "+----+----------+----------+--------------+------+-------+--------+-----------+-------+--------+---------+---------------+---------------+----------------+------------+-----------------+---------------+-------------------+-----------------+-----------------+------------+------------+------------+------------+------------+--------+-------------+---------+--------+\n",
            "|  ID|Year_Birth| Education|Marital_Status|Income|Kidhome|Teenhome|Dt_Customer|Recency|MntWines|MntFruits|MntMeatProducts|MntFishProducts|MntSweetProducts|MntGoldProds|NumDealsPurchases|NumWebPurchases|NumCatalogPurchases|NumStorePurchases|NumWebVisitsMonth|AcceptedCmp3|AcceptedCmp4|AcceptedCmp5|AcceptedCmp1|AcceptedCmp2|Complain|Z_CostContact|Z_Revenue|Response|\n",
            "+----+----------+----------+--------------+------+-------+--------+-----------+-------+--------+---------+---------------+---------------+----------------+------------+-----------------+---------------+-------------------+-----------------+-----------------+------------+------------+------------+------------+------------+--------+-------------+---------+--------+\n",
            "|5524|      1957|Graduation|        Single| 58138|      0|       0| 04-09-2012|     58|     635|       88|            546|            172|              88|          88|                3|              8|                 10|                4|                7|           0|           0|           0|           0|           0|       0|            3|       11|       1|\n",
            "|2174|      1954|Graduation|        Single| 46344|      1|       1| 08-03-2014|     38|      11|        1|              6|              2|               1|           6|                2|              1|                  1|                2|                5|           0|           0|           0|           0|           0|       0|            3|       11|       0|\n",
            "|4141|      1965|Graduation|      Together| 71613|      0|       0| 21-08-2013|     26|     426|       49|            127|            111|              21|          42|                1|              8|                  2|               10|                4|           0|           0|           0|           0|           0|       0|            3|       11|       0|\n",
            "|6182|      1984|Graduation|      Together| 26646|      1|       0| 10-02-2014|     26|      11|        4|             20|             10|               3|           5|                2|              2|                  0|                4|                6|           0|           0|           0|           0|           0|       0|            3|       11|       0|\n",
            "|5324|      1981|       PhD|       Married| 58293|      1|       0| 19-01-2014|     94|     173|       43|            118|             46|              27|          15|                5|              5|                  3|                6|                5|           0|           0|           0|           0|           0|       0|            3|       11|       0|\n",
            "+----+----------+----------+--------------+------+-------+--------+-----------+-------+--------+---------+---------------+---------------+----------------+------------+-----------------+---------------+-------------------+-----------------+-----------------+------------+------------+------------+------------+------------+--------+-------------+---------+--------+\n",
            "only showing top 5 rows\n",
            "\n"
          ]
        }
      ],
      "source": [
        "#EXIBINDO ALGUMAS COLUNAS\n",
        "df.show(5)"
      ]
    },
    {
      "cell_type": "code",
      "execution_count": null,
      "metadata": {
        "id": "bLKX9g4rD6hF",
        "colab": {
          "base_uri": "https://localhost:8080/"
        },
        "outputId": "5dc030f3-4178-4aaa-dcf0-d07383477efc"
      },
      "outputs": [
        {
          "output_type": "execute_result",
          "data": {
            "text/plain": [
              "['ID',\n",
              " 'Year_Birth',\n",
              " 'Education',\n",
              " 'Marital_Status',\n",
              " 'Income',\n",
              " 'Kidhome',\n",
              " 'Teenhome',\n",
              " 'Dt_Customer',\n",
              " 'Recency',\n",
              " 'MntWines',\n",
              " 'MntFruits',\n",
              " 'MntMeatProducts',\n",
              " 'MntFishProducts',\n",
              " 'MntSweetProducts',\n",
              " 'MntGoldProds',\n",
              " 'NumDealsPurchases',\n",
              " 'NumWebPurchases',\n",
              " 'NumCatalogPurchases',\n",
              " 'NumStorePurchases',\n",
              " 'NumWebVisitsMonth',\n",
              " 'AcceptedCmp3',\n",
              " 'AcceptedCmp4',\n",
              " 'AcceptedCmp5',\n",
              " 'AcceptedCmp1',\n",
              " 'AcceptedCmp2',\n",
              " 'Complain',\n",
              " 'Z_CostContact',\n",
              " 'Z_Revenue',\n",
              " 'Response']"
            ]
          },
          "metadata": {},
          "execution_count": 14
        }
      ],
      "source": [
        "# EXIBO O QUE FOI IMPORTADO\n",
        "df.columns"
      ]
    },
    {
      "cell_type": "code",
      "execution_count": null,
      "metadata": {
        "id": "FnW2WqJIjRra"
      },
      "outputs": [],
      "source": [
        "#MANTENHO UM BACKUP ANTES DA ELIMINAÇÃO\n",
        "df_backup = df"
      ]
    },
    {
      "cell_type": "code",
      "execution_count": null,
      "metadata": {
        "id": "Kk6SszbjVOLu",
        "colab": {
          "base_uri": "https://localhost:8080/"
        },
        "outputId": "caca8fe7-83f8-4527-f5b1-ffdac75c1170"
      },
      "outputs": [
        {
          "output_type": "stream",
          "name": "stdout",
          "text": [
            "+----+----------+----------+--------------+------+-------+--------+-----------+--------+---------+---------------+---------------+----------------+------------+-----------------+---------------+-------------------+-----------------+-----------------+------------+\n",
            "|  ID|Year_Birth| Education|Marital_Status|Income|Kidhome|Teenhome|Dt_Customer|MntWines|MntFruits|MntMeatProducts|MntFishProducts|MntSweetProducts|MntGoldProds|NumDealsPurchases|NumWebPurchases|NumCatalogPurchases|NumStorePurchases|NumWebVisitsMonth|AcceptedCmp3|\n",
            "+----+----------+----------+--------------+------+-------+--------+-----------+--------+---------+---------------+---------------+----------------+------------+-----------------+---------------+-------------------+-----------------+-----------------+------------+\n",
            "|5524|      1957|Graduation|        Single| 58138|      0|       0| 04-09-2012|     635|       88|            546|            172|              88|          88|                3|              8|                 10|                4|                7|           0|\n",
            "|2174|      1954|Graduation|        Single| 46344|      1|       1| 08-03-2014|      11|        1|              6|              2|               1|           6|                2|              1|                  1|                2|                5|           0|\n",
            "|4141|      1965|Graduation|      Together| 71613|      0|       0| 21-08-2013|     426|       49|            127|            111|              21|          42|                1|              8|                  2|               10|                4|           0|\n",
            "|6182|      1984|Graduation|      Together| 26646|      1|       0| 10-02-2014|      11|        4|             20|             10|               3|           5|                2|              2|                  0|                4|                6|           0|\n",
            "|5324|      1981|       PhD|       Married| 58293|      1|       0| 19-01-2014|     173|       43|            118|             46|              27|          15|                5|              5|                  3|                6|                5|           0|\n",
            "|7446|      1967|    Master|      Together| 62513|      0|       1| 09-09-2013|     520|       42|             98|              0|              42|          14|                2|              6|                  4|               10|                6|           0|\n",
            "| 965|      1971|Graduation|      Divorced| 55635|      0|       1| 13-11-2012|     235|       65|            164|             50|              49|          27|                4|              7|                  3|                7|                6|           0|\n",
            "|6177|      1985|       PhD|       Married| 33454|      1|       0| 08-05-2013|      76|       10|             56|              3|               1|          23|                2|              4|                  0|                4|                8|           0|\n",
            "|4855|      1974|       PhD|      Together| 30351|      1|       0| 06-06-2013|      14|        0|             24|              3|               3|           2|                1|              3|                  0|                2|                9|           0|\n",
            "|5899|      1950|       PhD|      Together|  5648|      1|       1| 13-03-2014|      28|        0|              6|              1|               1|          13|                1|              1|                  0|                0|               20|           1|\n",
            "|1994|      1983|Graduation|       Married|  null|      1|       0| 15-11-2013|       5|        5|              6|              0|               2|           1|                1|              1|                  0|                2|                7|           0|\n",
            "| 387|      1976|     Basic|       Married|  7500|      0|       0| 13-11-2012|       6|       16|             11|             11|               1|          16|                1|              2|                  0|                3|                8|           0|\n",
            "|2125|      1959|Graduation|      Divorced| 63033|      0|       0| 15-11-2013|     194|       61|            480|            225|             112|          30|                1|              3|                  4|                8|                2|           0|\n",
            "|8180|      1952|    Master|      Divorced| 59354|      1|       1| 15-11-2013|     233|        2|             53|              3|               5|          14|                3|              6|                  1|                5|                6|           0|\n",
            "|2569|      1987|Graduation|       Married| 17323|      0|       0| 10-10-2012|       3|       14|             17|              6|               1|           5|                1|              1|                  0|                3|                8|           0|\n",
            "|2114|      1946|       PhD|        Single| 82800|      0|       0| 24-11-2012|    1006|       22|            115|             59|              68|          45|                1|              7|                  6|               12|                3|           0|\n",
            "|9736|      1980|Graduation|       Married| 41850|      1|       1| 24-12-2012|      53|        5|             19|              2|              13|           4|                3|              3|                  0|                3|                8|           0|\n",
            "|4939|      1946|Graduation|      Together| 37760|      0|       0| 31-08-2012|      84|        5|             38|            150|              12|          28|                2|              4|                  1|                6|                7|           0|\n",
            "|6565|      1949|    Master|       Married| 76995|      0|       1| 28-03-2013|    1012|       80|            498|              0|              16|         176|                2|             11|                  4|                9|                5|           0|\n",
            "|2278|      1985|  2n Cycle|        Single| 33812|      1|       0| 03-11-2012|       4|       17|             19|             30|              24|          39|                2|              2|                  1|                3|                6|           0|\n",
            "+----+----------+----------+--------------+------+-------+--------+-----------+--------+---------+---------------+---------------+----------------+------------+-----------------+---------------+-------------------+-----------------+-----------------+------------+\n",
            "only showing top 20 rows\n",
            "\n"
          ]
        }
      ],
      "source": [
        "# VERIFIQUI QUAIS COLUNAS QUERO ELIMINAR QUE NÃO SERVIRÃO PARA A MINHA ANÁLISE\n",
        "df.drop('Recency','AcceptedCmp4','AcceptedCmp5','AcceptedCmp1','AcceptedCmp2','Complain','Z_CostContact','Z_Revenue','Response').show()"
      ]
    },
    {
      "cell_type": "code",
      "execution_count": null,
      "metadata": {
        "id": "PFVK9bvdgtmG",
        "colab": {
          "base_uri": "https://localhost:8080/"
        },
        "outputId": "aeb1244d-ea24-4874-d074-87851a99acda"
      },
      "outputs": [
        {
          "output_type": "stream",
          "name": "stdout",
          "text": [
            "+----+----------+----------+--------------+------+-------+--------+-----------+-------+--------+---------+---------------+---------------+----------------+------------+-----------------+---------------+-------------------+-----------------+-----------------+------------+------------+------------+------------+------------+--------+-------------+---------+--------+\n",
            "|  ID|Year_Birth| Education|Marital_Status|Income|Kidhome|Teenhome|Dt_Customer|Recency|MntWines|MntFruits|MntMeatProducts|MntFishProducts|MntSweetProducts|MntGoldProds|NumDealsPurchases|NumWebPurchases|NumCatalogPurchases|NumStorePurchases|NumWebVisitsMonth|AcceptedCmp3|AcceptedCmp4|AcceptedCmp5|AcceptedCmp1|AcceptedCmp2|Complain|Z_CostContact|Z_Revenue|Response|\n",
            "+----+----------+----------+--------------+------+-------+--------+-----------+-------+--------+---------+---------------+---------------+----------------+------------+-----------------+---------------+-------------------+-----------------+-----------------+------------+------------+------------+------------+------------+--------+-------------+---------+--------+\n",
            "|5524|      1957|Graduation|        Single| 58138|      0|       0| 04-09-2012|     58|     635|       88|            546|            172|              88|          88|                3|              8|                 10|                4|                7|           0|           0|           0|           0|           0|       0|            3|       11|       1|\n",
            "|2174|      1954|Graduation|        Single| 46344|      1|       1| 08-03-2014|     38|      11|        1|              6|              2|               1|           6|                2|              1|                  1|                2|                5|           0|           0|           0|           0|           0|       0|            3|       11|       0|\n",
            "|4141|      1965|Graduation|      Together| 71613|      0|       0| 21-08-2013|     26|     426|       49|            127|            111|              21|          42|                1|              8|                  2|               10|                4|           0|           0|           0|           0|           0|       0|            3|       11|       0|\n",
            "|6182|      1984|Graduation|      Together| 26646|      1|       0| 10-02-2014|     26|      11|        4|             20|             10|               3|           5|                2|              2|                  0|                4|                6|           0|           0|           0|           0|           0|       0|            3|       11|       0|\n",
            "|5324|      1981|       PhD|       Married| 58293|      1|       0| 19-01-2014|     94|     173|       43|            118|             46|              27|          15|                5|              5|                  3|                6|                5|           0|           0|           0|           0|           0|       0|            3|       11|       0|\n",
            "|7446|      1967|    Master|      Together| 62513|      0|       1| 09-09-2013|     16|     520|       42|             98|              0|              42|          14|                2|              6|                  4|               10|                6|           0|           0|           0|           0|           0|       0|            3|       11|       0|\n",
            "| 965|      1971|Graduation|      Divorced| 55635|      0|       1| 13-11-2012|     34|     235|       65|            164|             50|              49|          27|                4|              7|                  3|                7|                6|           0|           0|           0|           0|           0|       0|            3|       11|       0|\n",
            "|6177|      1985|       PhD|       Married| 33454|      1|       0| 08-05-2013|     32|      76|       10|             56|              3|               1|          23|                2|              4|                  0|                4|                8|           0|           0|           0|           0|           0|       0|            3|       11|       0|\n",
            "|4855|      1974|       PhD|      Together| 30351|      1|       0| 06-06-2013|     19|      14|        0|             24|              3|               3|           2|                1|              3|                  0|                2|                9|           0|           0|           0|           0|           0|       0|            3|       11|       1|\n",
            "|5899|      1950|       PhD|      Together|  5648|      1|       1| 13-03-2014|     68|      28|        0|              6|              1|               1|          13|                1|              1|                  0|                0|               20|           1|           0|           0|           0|           0|       0|            3|       11|       0|\n",
            "|1994|      1983|Graduation|       Married|  null|      1|       0| 15-11-2013|     11|       5|        5|              6|              0|               2|           1|                1|              1|                  0|                2|                7|           0|           0|           0|           0|           0|       0|            3|       11|       0|\n",
            "| 387|      1976|     Basic|       Married|  7500|      0|       0| 13-11-2012|     59|       6|       16|             11|             11|               1|          16|                1|              2|                  0|                3|                8|           0|           0|           0|           0|           0|       0|            3|       11|       0|\n",
            "|2125|      1959|Graduation|      Divorced| 63033|      0|       0| 15-11-2013|     82|     194|       61|            480|            225|             112|          30|                1|              3|                  4|                8|                2|           0|           0|           0|           0|           0|       0|            3|       11|       0|\n",
            "|8180|      1952|    Master|      Divorced| 59354|      1|       1| 15-11-2013|     53|     233|        2|             53|              3|               5|          14|                3|              6|                  1|                5|                6|           0|           0|           0|           0|           0|       0|            3|       11|       0|\n",
            "|2569|      1987|Graduation|       Married| 17323|      0|       0| 10-10-2012|     38|       3|       14|             17|              6|               1|           5|                1|              1|                  0|                3|                8|           0|           0|           0|           0|           0|       0|            3|       11|       0|\n",
            "|2114|      1946|       PhD|        Single| 82800|      0|       0| 24-11-2012|     23|    1006|       22|            115|             59|              68|          45|                1|              7|                  6|               12|                3|           0|           0|           1|           1|           0|       0|            3|       11|       1|\n",
            "|9736|      1980|Graduation|       Married| 41850|      1|       1| 24-12-2012|     51|      53|        5|             19|              2|              13|           4|                3|              3|                  0|                3|                8|           0|           0|           0|           0|           0|       0|            3|       11|       0|\n",
            "|4939|      1946|Graduation|      Together| 37760|      0|       0| 31-08-2012|     20|      84|        5|             38|            150|              12|          28|                2|              4|                  1|                6|                7|           0|           0|           0|           0|           0|       0|            3|       11|       0|\n",
            "|6565|      1949|    Master|       Married| 76995|      0|       1| 28-03-2013|     91|    1012|       80|            498|              0|              16|         176|                2|             11|                  4|                9|                5|           0|           0|           0|           1|           0|       0|            3|       11|       0|\n",
            "|2278|      1985|  2n Cycle|        Single| 33812|      1|       0| 03-11-2012|     86|       4|       17|             19|             30|              24|          39|                2|              2|                  1|                3|                6|           0|           0|           0|           0|           0|       0|            3|       11|       0|\n",
            "+----+----------+----------+--------------+------+-------+--------+-----------+-------+--------+---------+---------------+---------------+----------------+------------+-----------------+---------------+-------------------+-----------------+-----------------+------------+------------+------------+------------+------------+--------+-------------+---------+--------+\n",
            "only showing top 20 rows\n",
            "\n"
          ]
        }
      ],
      "source": [
        "df.show()"
      ]
    },
    {
      "cell_type": "code",
      "execution_count": null,
      "metadata": {
        "id": "GEXu9h0Uibii"
      },
      "outputs": [],
      "source": [
        "# EFETIVO A MINHA ELIMINAÇÃO\n",
        "df = df.drop('Recency','AcceptedCmp3','AcceptedCmp4','AcceptedCmp5','AcceptedCmp1','AcceptedCmp2','Complain','Z_CostContact','Z_Revenue','Response')"
      ]
    },
    {
      "cell_type": "code",
      "execution_count": null,
      "metadata": {
        "id": "uJrKmO2bjxT2",
        "colab": {
          "base_uri": "https://localhost:8080/"
        },
        "outputId": "4dcd292a-d7c4-49da-ed9b-a0d264bc7f18"
      },
      "outputs": [
        {
          "output_type": "stream",
          "name": "stdout",
          "text": [
            "+----+----------+----------+--------------+------+-------+--------+-----------+--------+---------+---------------+---------------+----------------+------------+-----------------+---------------+-------------------+-----------------+-----------------+\n",
            "|  ID|Year_Birth| Education|Marital_Status|Income|Kidhome|Teenhome|Dt_Customer|MntWines|MntFruits|MntMeatProducts|MntFishProducts|MntSweetProducts|MntGoldProds|NumDealsPurchases|NumWebPurchases|NumCatalogPurchases|NumStorePurchases|NumWebVisitsMonth|\n",
            "+----+----------+----------+--------------+------+-------+--------+-----------+--------+---------+---------------+---------------+----------------+------------+-----------------+---------------+-------------------+-----------------+-----------------+\n",
            "|5524|      1957|Graduation|        Single| 58138|      0|       0| 04-09-2012|     635|       88|            546|            172|              88|          88|                3|              8|                 10|                4|                7|\n",
            "|2174|      1954|Graduation|        Single| 46344|      1|       1| 08-03-2014|      11|        1|              6|              2|               1|           6|                2|              1|                  1|                2|                5|\n",
            "|4141|      1965|Graduation|      Together| 71613|      0|       0| 21-08-2013|     426|       49|            127|            111|              21|          42|                1|              8|                  2|               10|                4|\n",
            "|6182|      1984|Graduation|      Together| 26646|      1|       0| 10-02-2014|      11|        4|             20|             10|               3|           5|                2|              2|                  0|                4|                6|\n",
            "|5324|      1981|       PhD|       Married| 58293|      1|       0| 19-01-2014|     173|       43|            118|             46|              27|          15|                5|              5|                  3|                6|                5|\n",
            "|7446|      1967|    Master|      Together| 62513|      0|       1| 09-09-2013|     520|       42|             98|              0|              42|          14|                2|              6|                  4|               10|                6|\n",
            "| 965|      1971|Graduation|      Divorced| 55635|      0|       1| 13-11-2012|     235|       65|            164|             50|              49|          27|                4|              7|                  3|                7|                6|\n",
            "|6177|      1985|       PhD|       Married| 33454|      1|       0| 08-05-2013|      76|       10|             56|              3|               1|          23|                2|              4|                  0|                4|                8|\n",
            "|4855|      1974|       PhD|      Together| 30351|      1|       0| 06-06-2013|      14|        0|             24|              3|               3|           2|                1|              3|                  0|                2|                9|\n",
            "|5899|      1950|       PhD|      Together|  5648|      1|       1| 13-03-2014|      28|        0|              6|              1|               1|          13|                1|              1|                  0|                0|               20|\n",
            "|1994|      1983|Graduation|       Married|  null|      1|       0| 15-11-2013|       5|        5|              6|              0|               2|           1|                1|              1|                  0|                2|                7|\n",
            "| 387|      1976|     Basic|       Married|  7500|      0|       0| 13-11-2012|       6|       16|             11|             11|               1|          16|                1|              2|                  0|                3|                8|\n",
            "|2125|      1959|Graduation|      Divorced| 63033|      0|       0| 15-11-2013|     194|       61|            480|            225|             112|          30|                1|              3|                  4|                8|                2|\n",
            "|8180|      1952|    Master|      Divorced| 59354|      1|       1| 15-11-2013|     233|        2|             53|              3|               5|          14|                3|              6|                  1|                5|                6|\n",
            "|2569|      1987|Graduation|       Married| 17323|      0|       0| 10-10-2012|       3|       14|             17|              6|               1|           5|                1|              1|                  0|                3|                8|\n",
            "|2114|      1946|       PhD|        Single| 82800|      0|       0| 24-11-2012|    1006|       22|            115|             59|              68|          45|                1|              7|                  6|               12|                3|\n",
            "|9736|      1980|Graduation|       Married| 41850|      1|       1| 24-12-2012|      53|        5|             19|              2|              13|           4|                3|              3|                  0|                3|                8|\n",
            "|4939|      1946|Graduation|      Together| 37760|      0|       0| 31-08-2012|      84|        5|             38|            150|              12|          28|                2|              4|                  1|                6|                7|\n",
            "|6565|      1949|    Master|       Married| 76995|      0|       1| 28-03-2013|    1012|       80|            498|              0|              16|         176|                2|             11|                  4|                9|                5|\n",
            "|2278|      1985|  2n Cycle|        Single| 33812|      1|       0| 03-11-2012|       4|       17|             19|             30|              24|          39|                2|              2|                  1|                3|                6|\n",
            "+----+----------+----------+--------------+------+-------+--------+-----------+--------+---------+---------------+---------------+----------------+------------+-----------------+---------------+-------------------+-----------------+-----------------+\n",
            "only showing top 20 rows\n",
            "\n"
          ]
        }
      ],
      "source": [
        "#EXIBO A MINHA ELIMINAÇÃO\n",
        "df.show()"
      ]
    },
    {
      "cell_type": "markdown",
      "metadata": {
        "id": "3CnmGmCvlf2z"
      },
      "source": [
        "Renomenando as colunas para o idioma PT  \n",
        "Os dados da planilha já foram tratados em Pandas. Optei em converter apenas os nomes das colunas"
      ]
    },
    {
      "cell_type": "code",
      "execution_count": null,
      "metadata": {
        "id": "GPXpDVmYQ-wa"
      },
      "outputs": [],
      "source": [
        "df = df.withColumnRenamed('ID','Id_cod')\\\n",
        ".withColumnRenamed('Year_Birth','Ano_nascimento')\\\n",
        ".withColumnRenamed('Education','Escolaridade')\\\n",
        ".withColumnRenamed('Marital_Status','Estado_Civil')\\\n",
        ".withColumnRenamed('Income','Renda')\\\n",
        ".withColumnRenamed('Kidhome','Qtd_criancas')\\\n",
        ".withColumnRenamed('Teenhome','Qtd_Jovens')\\\n",
        ".withColumnRenamed('Dt_Customer','Data_Cliente')\\\n",
        ".withColumnRenamed('MntWines','Gastos_vinhos')\\\n",
        ".withColumnRenamed('MntFruits','Gastos_Futas')\\\n",
        ".withColumnRenamed('MntMeatProducts','Gastos_Carne')\\\n",
        ".withColumnRenamed('MntFishProducts','Gastos_Pescados')\\\n",
        ".withColumnRenamed('MntSweetProducts','Gastos_Doces')\\\n",
        ".withColumnRenamed('MntGoldProds','Gastos_Caros')\\\n",
        ".withColumnRenamed('NumDealsPurchases','Ofertas_compras')\\\n",
        ".withColumnRenamed('NumWebPurchases','Compras_Internet')\\\n",
        ".withColumnRenamed('NumCatalogPurchases','Compra_Catálogo')\\\n",
        ".withColumnRenamed('NumStorePurchases','Compra_Loja')\\\n",
        ".withColumnRenamed('NumWebVisitsMonth','Visitas_Site')\\\n"
      ]
    },
    {
      "cell_type": "code",
      "execution_count": null,
      "metadata": {
        "id": "y7qZXOEJS1aV",
        "colab": {
          "base_uri": "https://localhost:8080/"
        },
        "outputId": "73a1284a-2ee1-49cb-d07e-4d9d2e06999b"
      },
      "outputs": [
        {
          "output_type": "stream",
          "name": "stdout",
          "text": [
            "+------+--------------+------------+------------+-----+------------+----------+------------+-------------+------------+------------+---------------+------------+------------+---------------+----------------+---------------+-----------+------------+\n",
            "|Id_cod|Ano_nascimento|Escolaridade|Estado_Civil|Renda|Qtd_criancas|Qtd_Jovens|Data_Cliente|Gastos_vinhos|Gastos_Futas|Gastos_Carne|Gastos_Pescados|Gastos_Doces|Gastos_Caros|Ofertas_compras|Compras_Internet|Compra_Catálogo|Compra_Loja|Visitas_Site|\n",
            "+------+--------------+------------+------------+-----+------------+----------+------------+-------------+------------+------------+---------------+------------+------------+---------------+----------------+---------------+-----------+------------+\n",
            "|  5524|          1957|  Graduation|      Single|58138|           0|         0|  04-09-2012|          635|          88|         546|            172|          88|          88|              3|               8|             10|          4|           7|\n",
            "|  2174|          1954|  Graduation|      Single|46344|           1|         1|  08-03-2014|           11|           1|           6|              2|           1|           6|              2|               1|              1|          2|           5|\n",
            "|  4141|          1965|  Graduation|    Together|71613|           0|         0|  21-08-2013|          426|          49|         127|            111|          21|          42|              1|               8|              2|         10|           4|\n",
            "|  6182|          1984|  Graduation|    Together|26646|           1|         0|  10-02-2014|           11|           4|          20|             10|           3|           5|              2|               2|              0|          4|           6|\n",
            "|  5324|          1981|         PhD|     Married|58293|           1|         0|  19-01-2014|          173|          43|         118|             46|          27|          15|              5|               5|              3|          6|           5|\n",
            "|  7446|          1967|      Master|    Together|62513|           0|         1|  09-09-2013|          520|          42|          98|              0|          42|          14|              2|               6|              4|         10|           6|\n",
            "|   965|          1971|  Graduation|    Divorced|55635|           0|         1|  13-11-2012|          235|          65|         164|             50|          49|          27|              4|               7|              3|          7|           6|\n",
            "|  6177|          1985|         PhD|     Married|33454|           1|         0|  08-05-2013|           76|          10|          56|              3|           1|          23|              2|               4|              0|          4|           8|\n",
            "|  4855|          1974|         PhD|    Together|30351|           1|         0|  06-06-2013|           14|           0|          24|              3|           3|           2|              1|               3|              0|          2|           9|\n",
            "|  5899|          1950|         PhD|    Together| 5648|           1|         1|  13-03-2014|           28|           0|           6|              1|           1|          13|              1|               1|              0|          0|          20|\n",
            "|  1994|          1983|  Graduation|     Married| null|           1|         0|  15-11-2013|            5|           5|           6|              0|           2|           1|              1|               1|              0|          2|           7|\n",
            "|   387|          1976|       Basic|     Married| 7500|           0|         0|  13-11-2012|            6|          16|          11|             11|           1|          16|              1|               2|              0|          3|           8|\n",
            "|  2125|          1959|  Graduation|    Divorced|63033|           0|         0|  15-11-2013|          194|          61|         480|            225|         112|          30|              1|               3|              4|          8|           2|\n",
            "|  8180|          1952|      Master|    Divorced|59354|           1|         1|  15-11-2013|          233|           2|          53|              3|           5|          14|              3|               6|              1|          5|           6|\n",
            "|  2569|          1987|  Graduation|     Married|17323|           0|         0|  10-10-2012|            3|          14|          17|              6|           1|           5|              1|               1|              0|          3|           8|\n",
            "|  2114|          1946|         PhD|      Single|82800|           0|         0|  24-11-2012|         1006|          22|         115|             59|          68|          45|              1|               7|              6|         12|           3|\n",
            "|  9736|          1980|  Graduation|     Married|41850|           1|         1|  24-12-2012|           53|           5|          19|              2|          13|           4|              3|               3|              0|          3|           8|\n",
            "|  4939|          1946|  Graduation|    Together|37760|           0|         0|  31-08-2012|           84|           5|          38|            150|          12|          28|              2|               4|              1|          6|           7|\n",
            "|  6565|          1949|      Master|     Married|76995|           0|         1|  28-03-2013|         1012|          80|         498|              0|          16|         176|              2|              11|              4|          9|           5|\n",
            "|  2278|          1985|    2n Cycle|      Single|33812|           1|         0|  03-11-2012|            4|          17|          19|             30|          24|          39|              2|               2|              1|          3|           6|\n",
            "+------+--------------+------------+------------+-----+------------+----------+------------+-------------+------------+------------+---------------+------------+------------+---------------+----------------+---------------+-----------+------------+\n",
            "only showing top 20 rows\n",
            "\n"
          ]
        }
      ],
      "source": [
        "df.show()"
      ]
    },
    {
      "cell_type": "markdown",
      "metadata": {
        "id": "4vVUTww_2106"
      },
      "source": [
        "Renomear linhas"
      ]
    },
    {
      "cell_type": "code",
      "execution_count": null,
      "metadata": {
        "id": "_jpx0KriziiR"
      },
      "outputs": [],
      "source": [
        "# Renomenando as linhas para o idioma PT\n",
        "df=df.replace(['Graduation','PhD','Master','2n Cycle','Basic'],['Graduação','PhD','Mestrado','Segundo Ciclo','Básico'])\n",
        "df=df.replace(['Single','Married','Divorced','Together'],['Solteiro','Casado','Divorciado','Uni_Estavel'])\n"
      ]
    },
    {
      "cell_type": "code",
      "execution_count": null,
      "metadata": {
        "id": "rHop8AUCV7nx",
        "colab": {
          "base_uri": "https://localhost:8080/"
        },
        "outputId": "f568a42c-90c3-4d7a-daa6-8c770c45d5ce"
      },
      "outputs": [
        {
          "output_type": "stream",
          "name": "stdout",
          "text": [
            "+------+--------------+-------------+------------+-----+------------+----------+------------+-------------+------------+------------+---------------+------------+------------+---------------+----------------+---------------+-----------+------------+\n",
            "|Id_cod|Ano_nascimento| Escolaridade|Estado_Civil|Renda|Qtd_criancas|Qtd_Jovens|Data_Cliente|Gastos_vinhos|Gastos_Futas|Gastos_Carne|Gastos_Pescados|Gastos_Doces|Gastos_Caros|Ofertas_compras|Compras_Internet|Compra_Catálogo|Compra_Loja|Visitas_Site|\n",
            "+------+--------------+-------------+------------+-----+------------+----------+------------+-------------+------------+------------+---------------+------------+------------+---------------+----------------+---------------+-----------+------------+\n",
            "|  5524|          1957|    Graduação|    Solteiro|58138|           0|         0|  04-09-2012|          635|          88|         546|            172|          88|          88|              3|               8|             10|          4|           7|\n",
            "|  2174|          1954|    Graduação|    Solteiro|46344|           1|         1|  08-03-2014|           11|           1|           6|              2|           1|           6|              2|               1|              1|          2|           5|\n",
            "|  4141|          1965|    Graduação| Uni_Estavel|71613|           0|         0|  21-08-2013|          426|          49|         127|            111|          21|          42|              1|               8|              2|         10|           4|\n",
            "|  6182|          1984|    Graduação| Uni_Estavel|26646|           1|         0|  10-02-2014|           11|           4|          20|             10|           3|           5|              2|               2|              0|          4|           6|\n",
            "|  5324|          1981|          PhD|      Casado|58293|           1|         0|  19-01-2014|          173|          43|         118|             46|          27|          15|              5|               5|              3|          6|           5|\n",
            "|  7446|          1967|     Mestrado| Uni_Estavel|62513|           0|         1|  09-09-2013|          520|          42|          98|              0|          42|          14|              2|               6|              4|         10|           6|\n",
            "|   965|          1971|    Graduação|  Divorciado|55635|           0|         1|  13-11-2012|          235|          65|         164|             50|          49|          27|              4|               7|              3|          7|           6|\n",
            "|  6177|          1985|          PhD|      Casado|33454|           1|         0|  08-05-2013|           76|          10|          56|              3|           1|          23|              2|               4|              0|          4|           8|\n",
            "|  4855|          1974|          PhD| Uni_Estavel|30351|           1|         0|  06-06-2013|           14|           0|          24|              3|           3|           2|              1|               3|              0|          2|           9|\n",
            "|  5899|          1950|          PhD| Uni_Estavel| 5648|           1|         1|  13-03-2014|           28|           0|           6|              1|           1|          13|              1|               1|              0|          0|          20|\n",
            "|  1994|          1983|    Graduação|      Casado| null|           1|         0|  15-11-2013|            5|           5|           6|              0|           2|           1|              1|               1|              0|          2|           7|\n",
            "|   387|          1976|       Básico|      Casado| 7500|           0|         0|  13-11-2012|            6|          16|          11|             11|           1|          16|              1|               2|              0|          3|           8|\n",
            "|  2125|          1959|    Graduação|  Divorciado|63033|           0|         0|  15-11-2013|          194|          61|         480|            225|         112|          30|              1|               3|              4|          8|           2|\n",
            "|  8180|          1952|     Mestrado|  Divorciado|59354|           1|         1|  15-11-2013|          233|           2|          53|              3|           5|          14|              3|               6|              1|          5|           6|\n",
            "|  2569|          1987|    Graduação|      Casado|17323|           0|         0|  10-10-2012|            3|          14|          17|              6|           1|           5|              1|               1|              0|          3|           8|\n",
            "|  2114|          1946|          PhD|    Solteiro|82800|           0|         0|  24-11-2012|         1006|          22|         115|             59|          68|          45|              1|               7|              6|         12|           3|\n",
            "|  9736|          1980|    Graduação|      Casado|41850|           1|         1|  24-12-2012|           53|           5|          19|              2|          13|           4|              3|               3|              0|          3|           8|\n",
            "|  4939|          1946|    Graduação| Uni_Estavel|37760|           0|         0|  31-08-2012|           84|           5|          38|            150|          12|          28|              2|               4|              1|          6|           7|\n",
            "|  6565|          1949|     Mestrado|      Casado|76995|           0|         1|  28-03-2013|         1012|          80|         498|              0|          16|         176|              2|              11|              4|          9|           5|\n",
            "|  2278|          1985|Segundo Ciclo|    Solteiro|33812|           1|         0|  03-11-2012|            4|          17|          19|             30|          24|          39|              2|               2|              1|          3|           6|\n",
            "+------+--------------+-------------+------------+-----+------------+----------+------------+-------------+------------+------------+---------------+------------+------------+---------------+----------------+---------------+-----------+------------+\n",
            "only showing top 20 rows\n",
            "\n"
          ]
        }
      ],
      "source": [
        "df.show()"
      ]
    },
    {
      "cell_type": "markdown",
      "metadata": {
        "id": "OUlmQf6JtT3F"
      },
      "source": [
        "UTILIZAÇÃO DE FILTROS"
      ]
    },
    {
      "cell_type": "code",
      "execution_count": null,
      "metadata": {
        "id": "PMEvlV3ZtYZe",
        "colab": {
          "base_uri": "https://localhost:8080/"
        },
        "outputId": "e795bc87-7b15-4d97-ecb0-9bc7e7d82042"
      },
      "outputs": [
        {
          "output_type": "stream",
          "name": "stdout",
          "text": [
            "+------+--------------+------------+------------+-----+------------+----------+------------+-------------+------------+------------+---------------+------------+------------+---------------+----------------+---------------+-----------+------------+\n",
            "|Id_cod|Ano_nascimento|Escolaridade|Estado_Civil|Renda|Qtd_criancas|Qtd_Jovens|Data_Cliente|Gastos_vinhos|Gastos_Futas|Gastos_Carne|Gastos_Pescados|Gastos_Doces|Gastos_Caros|Ofertas_compras|Compras_Internet|Compra_Catálogo|Compra_Loja|Visitas_Site|\n",
            "+------+--------------+------------+------------+-----+------------+----------+------------+-------------+------------+------------+---------------+------------+------------+---------------+----------------+---------------+-----------+------------+\n",
            "|  5524|          1957|   Graduação|    Solteiro|58138|           0|         0|  04-09-2012|          635|          88|         546|            172|          88|          88|              3|               8|             10|          4|           7|\n",
            "|  2174|          1954|   Graduação|    Solteiro|46344|           1|         1|  08-03-2014|           11|           1|           6|              2|           1|           6|              2|               1|              1|          2|           5|\n",
            "|  4141|          1965|   Graduação| Uni_Estavel|71613|           0|         0|  21-08-2013|          426|          49|         127|            111|          21|          42|              1|               8|              2|         10|           4|\n",
            "|  6182|          1984|   Graduação| Uni_Estavel|26646|           1|         0|  10-02-2014|           11|           4|          20|             10|           3|           5|              2|               2|              0|          4|           6|\n",
            "|   965|          1971|   Graduação|  Divorciado|55635|           0|         1|  13-11-2012|          235|          65|         164|             50|          49|          27|              4|               7|              3|          7|           6|\n",
            "|  1994|          1983|   Graduação|      Casado| null|           1|         0|  15-11-2013|            5|           5|           6|              0|           2|           1|              1|               1|              0|          2|           7|\n",
            "|  2125|          1959|   Graduação|  Divorciado|63033|           0|         0|  15-11-2013|          194|          61|         480|            225|         112|          30|              1|               3|              4|          8|           2|\n",
            "|  2569|          1987|   Graduação|      Casado|17323|           0|         0|  10-10-2012|            3|          14|          17|              6|           1|           5|              1|               1|              0|          3|           8|\n",
            "|  9736|          1980|   Graduação|      Casado|41850|           1|         1|  24-12-2012|           53|           5|          19|              2|          13|           4|              3|               3|              0|          3|           8|\n",
            "|  4939|          1946|   Graduação| Uni_Estavel|37760|           0|         0|  31-08-2012|           84|           5|          38|            150|          12|          28|              2|               4|              1|          6|           7|\n",
            "+------+--------------+------------+------------+-----+------------+----------+------------+-------------+------------+------------+---------------+------------+------------+---------------+----------------+---------------+-----------+------------+\n",
            "only showing top 10 rows\n",
            "\n"
          ]
        }
      ],
      "source": [
        "# FILTRANDO  SOMENTE POR UM TIPO DE ESCOLARIDADE (FILTER)\n",
        "df.filter(df.Escolaridade == \"Graduação\").show(10)"
      ]
    },
    {
      "cell_type": "code",
      "execution_count": null,
      "metadata": {
        "id": "5v6jkPPlt3zU",
        "colab": {
          "base_uri": "https://localhost:8080/"
        },
        "outputId": "13e783cb-69a7-4afd-c7a2-0692eb457244"
      },
      "outputs": [
        {
          "output_type": "stream",
          "name": "stdout",
          "text": [
            "+------+--------------+------------+------------+-----+------------+----------+------------+-------------+------------+------------+---------------+------------+------------+---------------+----------------+---------------+-----------+------------+\n",
            "|Id_cod|Ano_nascimento|Escolaridade|Estado_Civil|Renda|Qtd_criancas|Qtd_Jovens|Data_Cliente|Gastos_vinhos|Gastos_Futas|Gastos_Carne|Gastos_Pescados|Gastos_Doces|Gastos_Caros|Ofertas_compras|Compras_Internet|Compra_Catálogo|Compra_Loja|Visitas_Site|\n",
            "+------+--------------+------------+------------+-----+------------+----------+------------+-------------+------------+------------+---------------+------------+------------+---------------+----------------+---------------+-----------+------------+\n",
            "|  5524|          1957|   Graduação|    Solteiro|58138|           0|         0|  04-09-2012|          635|          88|         546|            172|          88|          88|              3|               8|             10|          4|           7|\n",
            "|  4141|          1965|   Graduação| Uni_Estavel|71613|           0|         0|  21-08-2013|          426|          49|         127|            111|          21|          42|              1|               8|              2|         10|           4|\n",
            "|  5324|          1981|         PhD|      Casado|58293|           1|         0|  19-01-2014|          173|          43|         118|             46|          27|          15|              5|               5|              3|          6|           5|\n",
            "|  7446|          1967|    Mestrado| Uni_Estavel|62513|           0|         1|  09-09-2013|          520|          42|          98|              0|          42|          14|              2|               6|              4|         10|           6|\n",
            "|   965|          1971|   Graduação|  Divorciado|55635|           0|         1|  13-11-2012|          235|          65|         164|             50|          49|          27|              4|               7|              3|          7|           6|\n",
            "|  2125|          1959|   Graduação|  Divorciado|63033|           0|         0|  15-11-2013|          194|          61|         480|            225|         112|          30|              1|               3|              4|          8|           2|\n",
            "|  8180|          1952|    Mestrado|  Divorciado|59354|           1|         1|  15-11-2013|          233|           2|          53|              3|           5|          14|              3|               6|              1|          5|           6|\n",
            "|  2114|          1946|         PhD|    Solteiro|82800|           0|         0|  24-11-2012|         1006|          22|         115|             59|          68|          45|              1|               7|              6|         12|           3|\n",
            "|  6565|          1949|    Mestrado|      Casado|76995|           0|         1|  28-03-2013|         1012|          80|         498|              0|          16|         176|              2|              11|              4|          9|           5|\n",
            "|  1993|          1949|         PhD|      Casado|58607|           0|         1|  23-12-2012|          867|           0|          86|              0|           0|          19|              3|               2|              3|          9|           8|\n",
            "|  4047|          1954|         PhD|      Casado|65324|           0|         1|  11-01-2014|          384|           0|         102|             21|          32|           5|              3|               6|              2|          9|           4|\n",
            "|  1409|          1951|   Graduação| Uni_Estavel|40689|           0|         1|  18-03-2013|          270|           3|          27|             39|           6|          99|              7|               7|              1|          5|           8|\n",
            "|  2404|          1976|   Graduação|      Casado|53359|           1|         1|  27-05-2013|          173|           4|          30|              3|           6|          41|              4|               5|              1|          4|           7|\n",
            "|  1966|          1965|         PhD|      Casado|84618|           0|         0|  22-11-2013|          684|         100|         801|             21|          66|           0|              1|               6|              9|         10|           2|\n",
            "|  3033|          1963|    Mestrado| Uni_Estavel|38620|           0|         0|  11-05-2013|          112|          17|          44|             34|          22|          89|              1|               2|              5|          3|           3|\n",
            "|  5710|          1970|   Graduação| Uni_Estavel|40548|           0|         1|  10-10-2012|          110|           0|           5|              2|           0|           3|              2|               2|              1|          4|           5|\n",
            "|  8755|          1946|    Mestrado|      Casado|68657|           0|         0|  20-02-2013|          482|          34|         471|            119|          68|          22|              1|               3|              5|          9|           7|\n",
            "|  4339|          1970|         PhD|      Casado|67353|           0|         1|  31-12-2013|          702|          17|         151|              0|           8|          35|              5|               5|              6|         12|           2|\n",
            "|  2968|          1943|         PhD|  Divorciado|48948|           0|         0|  01-02-2013|          437|           8|         206|            160|          49|          42|              2|               7|             10|          5|           6|\n",
            "|  8601|          1980|   Graduação|      Casado|80011|           0|         1|  29-04-2013|          421|          76|         536|             82|         178|         102|              2|               8|              6|          5|           4|\n",
            "+------+--------------+------------+------------+-----+------------+----------+------------+-------------+------------+------------+---------------+------------+------------+---------------+----------------+---------------+-----------+------------+\n",
            "only showing top 20 rows\n",
            "\n"
          ]
        }
      ],
      "source": [
        "# FILTRANDO  SOMENTE OS QUE TIVERAM GASTOS DE VINHOS > 99 DOS 50 PRIMEIROS\n",
        "df.filter(df['Gastos_vinhos']>=99).show()"
      ]
    },
    {
      "cell_type": "code",
      "execution_count": null,
      "metadata": {
        "id": "mpVEQOYc8Ov9",
        "colab": {
          "base_uri": "https://localhost:8080/"
        },
        "outputId": "e26fab8a-e208-4bde-c1bb-16eab1b9bd8a"
      },
      "outputs": [
        {
          "output_type": "stream",
          "name": "stdout",
          "text": [
            "+------+--------------+------------+------------+-----+------------+----------+------------+-------------+------------+------------+---------------+------------+------------+---------------+----------------+---------------+-----------+------------+\n",
            "|Id_cod|Ano_nascimento|Escolaridade|Estado_Civil|Renda|Qtd_criancas|Qtd_Jovens|Data_Cliente|Gastos_vinhos|Gastos_Futas|Gastos_Carne|Gastos_Pescados|Gastos_Doces|Gastos_Caros|Ofertas_compras|Compras_Internet|Compra_Catálogo|Compra_Loja|Visitas_Site|\n",
            "+------+--------------+------------+------------+-----+------------+----------+------------+-------------+------------+------------+---------------+------------+------------+---------------+----------------+---------------+-----------+------------+\n",
            "|  7446|          1967|    Mestrado| Uni_Estavel|62513|           0|         1|  09-09-2013|          520|          42|          98|              0|          42|          14|              2|               6|              4|         10|           6|\n",
            "|  8180|          1952|    Mestrado|  Divorciado|59354|           1|         1|  15-11-2013|          233|           2|          53|              3|           5|          14|              3|               6|              1|          5|           6|\n",
            "|  6565|          1949|    Mestrado|      Casado|76995|           0|         1|  28-03-2013|         1012|          80|         498|              0|          16|         176|              2|              11|              4|          9|           5|\n",
            "|  6864|          1989|    Mestrado|  Divorciado|10979|           0|         0|  22-05-2014|            8|           4|          10|              2|           2|           4|              2|               3|              0|          3|           5|\n",
            "|  3033|          1963|    Mestrado| Uni_Estavel|38620|           0|         0|  11-05-2013|          112|          17|          44|             34|          22|          89|              1|               2|              5|          3|           3|\n",
            "|  8755|          1946|    Mestrado|      Casado|68657|           0|         0|  20-02-2013|          482|          34|         471|            119|          68|          22|              1|               3|              5|          9|           7|\n",
            "| 10738|          1951|    Mestrado|    Solteiro|49389|           1|         1|  29-08-2013|           40|           0|          19|              2|           1|           3|              1|               2|              0|          3|           7|\n",
            "|   503|          1985|    Mestrado|      Casado|20559|           1|         0|  12-03-2013|           13|           1|          29|              3|           0|           7|              2|               2|              0|          3|           8|\n",
            "|  2139|          1975|    Mestrado|      Casado| 7500|           1|         0|  02-10-2013|            3|           1|          10|              3|           2|          12|              3|               2|              0|          3|           5|\n",
            "|  4114|          1964|    Mestrado|      Casado|79143|           0|         0|  11-08-2012|          650|          37|         780|             27|         167|          32|              1|               6|              9|         13|           3|\n",
            "|  6260|          1955|    Mestrado| Uni_Estavel|82384|           0|         0|  19-11-2012|          984|          51|         432|            180|         120|         190|              1|               3|             10|         13|           1|\n",
            "|  6853|          1982|    Mestrado|    Solteiro|75777|           0|         0|  04-07-2013|          712|          26|         538|             69|          13|          80|              1|               3|              6|         11|           1|\n",
            "|  1402|          1954|    Mestrado|      Casado|66991|           0|         0|  11-09-2012|          496|          36|         460|            189|          60|          12|              3|               4|              8|          6|           3|\n",
            "|  1859|          1972|    Mestrado|      Casado|75251|           0|         0|  27-08-2012|          721|         111|         925|             97|          18|          18|              1|               7|              6|          5|           5|\n",
            "|  4119|          1963|    Mestrado| Uni_Estavel|38620|           0|         0|  11-05-2013|          112|          17|          44|             34|          22|          89|              1|               2|              5|          3|           3|\n",
            "|   273|          1970|    Mestrado|      Casado|36138|           1|         1|  16-07-2013|          130|           0|          16|              0|           0|           5|              5|               3|              1|          4|           7|\n",
            "|  5798|          1973|    Mestrado| Uni_Estavel| null|           0|         0|  23-11-2013|          445|          37|         359|             98|          28|          18|              1|               2|              4|          8|           1|\n",
            "| 11178|          1972|    Mestrado|    Solteiro|42394|           1|         0|  23-03-2014|           15|           2|          10|              0|           1|           4|              1|               1|              0|          3|           7|\n",
            "| 10991|          1960|    Mestrado|      Casado|89058|           0|         0|  07-12-2012|          454|         194|         106|             31|          22|          43|              1|               5|              4|          4|           2|\n",
            "|  3267|          1963|    Mestrado| Uni_Estavel|57288|           0|         1|  25-06-2014|          527|           0|          21|              0|           0|          60|              3|               8|              1|          8|           6|\n",
            "+------+--------------+------------+------------+-----+------------+----------+------------+-------------+------------+------------+---------------+------------+------------+---------------+----------------+---------------+-----------+------------+\n",
            "only showing top 20 rows\n",
            "\n"
          ]
        }
      ],
      "source": [
        "# OUTRA FORMA DE FAZER UM FILTRO USANDO UM TIPO DE ESCOLARIDADE (WHERE)\n",
        "df.where(F.col('Escolaridade') == 'Mestrado').show()"
      ]
    },
    {
      "cell_type": "markdown",
      "metadata": {
        "id": "GHGIVILfCGpi"
      },
      "source": [
        "ORDENAÇÃO DE COLUNA"
      ]
    },
    {
      "cell_type": "code",
      "execution_count": null,
      "metadata": {
        "id": "0WlvPakaCHvQ",
        "colab": {
          "base_uri": "https://localhost:8080/"
        },
        "outputId": "076fced7-ae41-4c67-ada3-6fb084416cdc"
      },
      "outputs": [
        {
          "output_type": "stream",
          "name": "stdout",
          "text": [
            "+------+-------------+-------------+------------+\n",
            "|Id_cod| Escolaridade|Gastos_vinhos|Gastos_Carne|\n",
            "+------+-------------+-------------+------------+\n",
            "| 10401|Segundo Ciclo|            1|           5|\n",
            "|  3068|    Graduação|            1|           9|\n",
            "|  8234|       Básico|            1|           7|\n",
            "|  6961|    Graduação|            1|           5|\n",
            "| 11003|Segundo Ciclo|            2|           7|\n",
            "+------+-------------+-------------+------------+\n",
            "only showing top 5 rows\n",
            "\n"
          ]
        }
      ],
      "source": [
        "# PELO GRAU DE ESCOLARIDADE EXIBE QUEM TEVE MAIS CONSUMO DE CARNES E VINHOS\n",
        "df.select(F.col(\"Id_cod\"),F.col(\"Escolaridade\"), F.col(\"Gastos_vinhos\"),F.col(\"Gastos_Carne\")).orderBy(F.col(\"Gastos_Pescados\").asc(), F.col(\"Gastos_vinhos\")).show(5)\n"
      ]
    },
    {
      "cell_type": "markdown",
      "metadata": {
        "id": "PA97T1ahxXXW"
      },
      "source": [
        "GROUPBY"
      ]
    },
    {
      "cell_type": "code",
      "execution_count": null,
      "metadata": {
        "id": "oTL-KE6bwTz2",
        "colab": {
          "base_uri": "https://localhost:8080/"
        },
        "outputId": "c521eed8-4006-42da-ebe6-c89065ad1fef"
      },
      "outputs": [
        {
          "output_type": "stream",
          "name": "stdout",
          "text": [
            "+-------------+------------------+\n",
            "| Escolaridade|sum(Gastos_vinhos)|\n",
            "+-------------+------------------+\n",
            "|Segundo Ciclo|             40231|\n",
            "|          PhD|            196585|\n",
            "|     Mestrado|            123238|\n",
            "|       Básico|               391|\n",
            "|    Graduação|            320371|\n",
            "+-------------+------------------+\n",
            "\n"
          ]
        }
      ],
      "source": [
        "# AGRUPO POR TIPO DE ESCOLARIDADE E GASTO COM VINHOS \n",
        "df.groupBy(\"Escolaridade\").sum('Gastos_vinhos').show()\n"
      ]
    },
    {
      "cell_type": "code",
      "execution_count": null,
      "metadata": {
        "id": "_n488phoFVYH",
        "colab": {
          "base_uri": "https://localhost:8080/"
        },
        "outputId": "07bd232c-cde7-440b-e94a-665be0d6d10d"
      },
      "outputs": [
        {
          "output_type": "stream",
          "name": "stdout",
          "text": [
            "+-------------+-----------------+---------------+\n",
            "| Escolaridade|sum(Qtd_criancas)|sum(Qtd_Jovens)|\n",
            "+-------------+-----------------+---------------+\n",
            "|Segundo Ciclo|               97|             83|\n",
            "|          PhD|              195|            291|\n",
            "|     Mestrado|              168|            198|\n",
            "|       Básico|               34|              5|\n",
            "|    Graduação|              501|            557|\n",
            "+-------------+-----------------+---------------+\n",
            "\n"
          ]
        }
      ],
      "source": [
        "# QUAL O GRAU DE ESCOLARIDADE QUE TEM CRIANÇAS\n",
        "df.groupBy(\"Escolaridade\").sum('Qtd_criancas','Qtd_Jovens').show()"
      ]
    },
    {
      "cell_type": "code",
      "execution_count": null,
      "metadata": {
        "id": "UNDbSdm7wT3t",
        "colab": {
          "base_uri": "https://localhost:8080/"
        },
        "outputId": "adb767c2-0cc7-452c-c3b1-ec202c197049"
      },
      "outputs": [
        {
          "output_type": "stream",
          "name": "stdout",
          "text": [
            "+------------+-----------------+---------------+\n",
            "|Estado_Civil|sum(Qtd_criancas)|sum(Qtd_Jovens)|\n",
            "+------------+-----------------+---------------+\n",
            "|        YOLO|                0|              2|\n",
            "| Uni_Estavel|              261|            307|\n",
            "|  Divorciado|               96|            137|\n",
            "|      Absurd|                0|              0|\n",
            "|    Solteiro|              223|            195|\n",
            "|       Widow|               18|             49|\n",
            "|      Casado|              394|            442|\n",
            "|       Alone|                3|              2|\n",
            "+------------+-----------------+---------------+\n",
            "\n"
          ]
        }
      ],
      "source": [
        "# QUAL O ESTADO CIVIL  QUE TEM CRIANÇAS\n",
        "df.groupBy(\"Estado_Civil\").sum('Qtd_criancas','Qtd_Jovens').show()"
      ]
    },
    {
      "cell_type": "code",
      "execution_count": null,
      "metadata": {
        "id": "505kQtgn3POy",
        "colab": {
          "base_uri": "https://localhost:8080/"
        },
        "outputId": "f460f190-ed4c-4692-a6ca-96acda152af2"
      },
      "outputs": [
        {
          "output_type": "stream",
          "name": "stdout",
          "text": [
            "+-------------+-----+\n",
            "| Escolaridade|count|\n",
            "+-------------+-----+\n",
            "|Segundo Ciclo|  203|\n",
            "|          PhD|  486|\n",
            "|     Mestrado|  370|\n",
            "|       Básico|   54|\n",
            "|    Graduação| 1127|\n",
            "+-------------+-----+\n",
            "\n"
          ]
        }
      ],
      "source": [
        "# QUAl O NIVEL DE ESCOLARIDADE NA PLANILHA ??\n",
        "df.groupBy(\"Escolaridade\").count().show()"
      ]
    },
    {
      "cell_type": "code",
      "execution_count": null,
      "metadata": {
        "id": "4aXS4ba-4tBn",
        "colab": {
          "base_uri": "https://localhost:8080/"
        },
        "outputId": "72591e35-d9eb-49bc-f42a-a69346e33a32"
      },
      "outputs": [
        {
          "output_type": "stream",
          "name": "stdout",
          "text": [
            "+-------------+-----------------+\n",
            "| Escolaridade|max(Gastos_Carne)|\n",
            "+-------------+-----------------+\n",
            "|Segundo Ciclo|             1607|\n",
            "|          PhD|             1622|\n",
            "|     Mestrado|              925|\n",
            "|       Básico|              122|\n",
            "|    Graduação|             1725|\n",
            "+-------------+-----------------+\n",
            "\n"
          ]
        }
      ],
      "source": [
        "# QUAL ESCOLARIDADE O CONSUMO DE CARNE FOI MAIOR ?? \n",
        "df.groupBy(\"Escolaridade\").max('Gastos_Carne').show()"
      ]
    },
    {
      "cell_type": "markdown",
      "metadata": {
        "id": "g9mDuHEvU5jE"
      },
      "source": [
        "WINDOW FUNCTION\n",
        "\n",
        "from pyspark.sql.window import Window (INSTALADO)"
      ]
    },
    {
      "cell_type": "markdown",
      "metadata": {
        "id": "WL_RWtkiBzW4"
      },
      "source": [
        "Agregação\n",
        "- Dados da pesquisa anterior\n",
        "\n",
        " - QUAL ESCOLARIDADE O CONSUMO DE CARNE FOI MAIOR ??\n",
        " - QUAl O NIVEL DE ESCOLARIDADE NA PLANILHA ??"
      ]
    },
    {
      "cell_type": "code",
      "execution_count": null,
      "metadata": {
        "id": "cwRiNdeZB3TM"
      },
      "outputs": [],
      "source": [
        "# AGREGACAO DE COLUNAS \n",
        "schema = ['Escolaridade','count','Gastos_Carne','Qtd_criancas','Qtd_Jovens']\n",
        "dados = [('2n Cycle', 203, 1607,97,83,),('PhD',486,1622,195,291),('Master',370,925,168,198),('Graduation', 1127, 1725,501,557),(' Basic',54, 122,34,5)]\n",
        "df2 = spark.createDataFrame(data=dados, schema=schema)\n"
      ]
    },
    {
      "cell_type": "code",
      "execution_count": null,
      "metadata": {
        "id": "Ggtep7pLEXOW",
        "colab": {
          "base_uri": "https://localhost:8080/"
        },
        "outputId": "06a98739-9d6d-4e5a-a71c-1fadee061d40"
      },
      "outputs": [
        {
          "output_type": "stream",
          "name": "stdout",
          "text": [
            "+------------+-----+------------+------------+----------+\n",
            "|Escolaridade|count|Gastos_Carne|Qtd_criancas|Qtd_Jovens|\n",
            "+------------+-----+------------+------------+----------+\n",
            "|    2n Cycle|  203|        1607|          97|        83|\n",
            "|         PhD|  486|        1622|         195|       291|\n",
            "|      Master|  370|         925|         168|       198|\n",
            "|  Graduation| 1127|        1725|         501|       557|\n",
            "|       Basic|   54|         122|          34|         5|\n",
            "+------------+-----+------------+------------+----------+\n",
            "\n"
          ]
        }
      ],
      "source": [
        "df2.show()"
      ]
    },
    {
      "cell_type": "code",
      "execution_count": null,
      "metadata": {
        "id": "AX5-SC06wT7Z"
      },
      "outputs": [],
      "source": [
        "#Particionar minha janela a partir de uma coluna\n",
        "w0 = Window.partitionBy(F.col('Estado_Civil')).orderBy('Renda')"
      ]
    },
    {
      "cell_type": "code",
      "execution_count": null,
      "metadata": {
        "id": "nKIaCyN3wS0-",
        "colab": {
          "base_uri": "https://localhost:8080/"
        },
        "outputId": "8acb9ed6-7a91-4894-bb20-020edb94b131"
      },
      "outputs": [
        {
          "output_type": "stream",
          "name": "stdout",
          "text": [
            "+------+--------------+------------+------------+-----+------------+----------+------------+-------------+------------+------------+---------------+------------+------------+---------------+----------------+---------------+-----------+------------+----------+\n",
            "|Id_cod|Ano_nascimento|Escolaridade|Estado_Civil|Renda|Qtd_criancas|Qtd_Jovens|Data_Cliente|Gastos_vinhos|Gastos_Futas|Gastos_Carne|Gastos_Pescados|Gastos_Doces|Gastos_Caros|Ofertas_compras|Compras_Internet|Compra_Catálogo|Compra_Loja|Visitas_Site|row_number|\n",
            "+------+--------------+------------+------------+-----+------------+----------+------------+-------------+------------+------------+---------------+------------+------------+---------------+----------------+---------------+-----------+------------+----------+\n",
            "|  4369|          1957|    Mestrado|      Absurd|65487|           0|         0|  10-01-2014|          240|          67|         500|            199|           0|         163|              3|               3|              5|          6|           2|         1|\n",
            "|  7734|          1993|   Graduação|      Absurd|79244|           0|         0|  19-12-2012|          471|         102|         125|            212|          61|         245|              1|               4|             10|          7|           1|         2|\n",
            "|    92|          1988|   Graduação|       Alone|34176|           1|         0|  12-05-2014|            5|           7|          24|             19|          14|          20|              4|               3|              0|          4|           6|         1|\n",
            "|  7660|          1973|         PhD|       Alone|35860|           1|         1|  19-05-2014|           15|           0|           8|              4|           2|          20|              2|               1|              1|          2|           5|         2|\n",
            "|   433|          1958|    Mestrado|       Alone|61331|           1|         1|  10-03-2013|          534|           5|          47|              0|           5|          41|              5|              11|              1|          6|           8|         3|\n",
            "+------+--------------+------------+------------+-----+------------+----------+------------+-------------+------------+------------+---------------+------------+------------+---------------+----------------+---------------+-----------+------------+----------+\n",
            "only showing top 5 rows\n",
            "\n"
          ]
        }
      ],
      "source": [
        "#row_number\n",
        "df.withColumn('row_number', F.row_number().over(w0)).show(5)"
      ]
    },
    {
      "cell_type": "markdown",
      "metadata": {
        "id": "Ob9ILjDK3ONp"
      },
      "source": [
        "CRIANDO UMA NOVA COLUNA COM BASE EM DUAS CONDIÇÕES"
      ]
    },
    {
      "cell_type": "code",
      "execution_count": null,
      "metadata": {
        "id": "iSiuvaRkwS9k",
        "colab": {
          "base_uri": "https://localhost:8080/"
        },
        "outputId": "32778a33-e759-4c72-b64b-d4112cd41e8f"
      },
      "outputs": [
        {
          "output_type": "stream",
          "name": "stdout",
          "text": [
            "+------+--------------+-------------+------------+-----+------------+----------+------------+-------------+------------+------------+---------------+------------+------------+---------------+----------------+---------------+-----------+------------+-----------------+\n",
            "|Id_cod|Ano_nascimento| Escolaridade|Estado_Civil|Renda|Qtd_criancas|Qtd_Jovens|Data_Cliente|Gastos_vinhos|Gastos_Futas|Gastos_Carne|Gastos_Pescados|Gastos_Doces|Gastos_Caros|Ofertas_compras|Compras_Internet|Compra_Catálogo|Compra_Loja|Visitas_Site|Estado_Civil_novo|\n",
            "+------+--------------+-------------+------------+-----+------------+----------+------------+-------------+------------+------------+---------------+------------+------------+---------------+----------------+---------------+-----------+------------+-----------------+\n",
            "|  5524|          1957|    Graduação|    Solteiro|58138|           0|         0|  04-09-2012|          635|          88|         546|            172|          88|          88|              3|               8|             10|          4|           7|             null|\n",
            "|  2174|          1954|    Graduação|    Solteiro|46344|           1|         1|  08-03-2014|           11|           1|           6|              2|           1|           6|              2|               1|              1|          2|           5|             null|\n",
            "|  4141|          1965|    Graduação| Uni_Estavel|71613|           0|         0|  21-08-2013|          426|          49|         127|            111|          21|          42|              1|               8|              2|         10|           4|             null|\n",
            "|  6182|          1984|    Graduação| Uni_Estavel|26646|           1|         0|  10-02-2014|           11|           4|          20|             10|           3|           5|              2|               2|              0|          4|           6|             null|\n",
            "|  5324|          1981|          PhD|      Casado|58293|           1|         0|  19-01-2014|          173|          43|         118|             46|          27|          15|              5|               5|              3|          6|           5|             null|\n",
            "|  7446|          1967|     Mestrado| Uni_Estavel|62513|           0|         1|  09-09-2013|          520|          42|          98|              0|          42|          14|              2|               6|              4|         10|           6|             null|\n",
            "|   965|          1971|    Graduação|  Divorciado|55635|           0|         1|  13-11-2012|          235|          65|         164|             50|          49|          27|              4|               7|              3|          7|           6|             null|\n",
            "|  6177|          1985|          PhD|      Casado|33454|           1|         0|  08-05-2013|           76|          10|          56|              3|           1|          23|              2|               4|              0|          4|           8|             null|\n",
            "|  4855|          1974|          PhD| Uni_Estavel|30351|           1|         0|  06-06-2013|           14|           0|          24|              3|           3|           2|              1|               3|              0|          2|           9|             null|\n",
            "|  5899|          1950|          PhD| Uni_Estavel| 5648|           1|         1|  13-03-2014|           28|           0|           6|              1|           1|          13|              1|               1|              0|          0|          20|             null|\n",
            "|  1994|          1983|    Graduação|      Casado| null|           1|         0|  15-11-2013|            5|           5|           6|              0|           2|           1|              1|               1|              0|          2|           7|             null|\n",
            "|   387|          1976|       Básico|      Casado| 7500|           0|         0|  13-11-2012|            6|          16|          11|             11|           1|          16|              1|               2|              0|          3|           8|             null|\n",
            "|  2125|          1959|    Graduação|  Divorciado|63033|           0|         0|  15-11-2013|          194|          61|         480|            225|         112|          30|              1|               3|              4|          8|           2|             null|\n",
            "|  8180|          1952|     Mestrado|  Divorciado|59354|           1|         1|  15-11-2013|          233|           2|          53|              3|           5|          14|              3|               6|              1|          5|           6|             null|\n",
            "|  2569|          1987|    Graduação|      Casado|17323|           0|         0|  10-10-2012|            3|          14|          17|              6|           1|           5|              1|               1|              0|          3|           8|             null|\n",
            "|  2114|          1946|          PhD|    Solteiro|82800|           0|         0|  24-11-2012|         1006|          22|         115|             59|          68|          45|              1|               7|              6|         12|           3|             null|\n",
            "|  9736|          1980|    Graduação|      Casado|41850|           1|         1|  24-12-2012|           53|           5|          19|              2|          13|           4|              3|               3|              0|          3|           8|             null|\n",
            "|  4939|          1946|    Graduação| Uni_Estavel|37760|           0|         0|  31-08-2012|           84|           5|          38|            150|          12|          28|              2|               4|              1|          6|           7|             null|\n",
            "|  6565|          1949|     Mestrado|      Casado|76995|           0|         1|  28-03-2013|         1012|          80|         498|              0|          16|         176|              2|              11|              4|          9|           5|             null|\n",
            "|  2278|          1985|Segundo Ciclo|    Solteiro|33812|           1|         0|  03-11-2012|            4|          17|          19|             30|          24|          39|              2|               2|              1|          3|           6|             null|\n",
            "+------+--------------+-------------+------------+-----+------------+----------+------------+-------------+------------+------------+---------------+------------+------------+---------------+----------------+---------------+-----------+------------+-----------------+\n",
            "only showing top 20 rows\n",
            "\n"
          ]
        }
      ],
      "source": [
        "#Adicionando colunas df_spaypark\n",
        "df.withColumn('Estado_Civil_novo',df ['Estado_Civil']+1).show ()"
      ]
    },
    {
      "cell_type": "code",
      "source": [
        "# APÓS O TÉRMINO DO TRABALHO , DEVEMOS SUBIR ESSE ARQUIVO .CSV PARA A GCP ( GOOGLE CLOUD PLATAFORM)\n",
        "(df.write.format('csv')\n",
        ".option('header', 'true')\n",
        ".option('inferschema', 'true')\n",
        ".option('delimiter', ';')\n",
        ".save('gs://individualproject/Final/marketing_campaign_final.csv')\n",
        ")\n"
      ],
      "metadata": {
        "id": "TD9AGtpkuCrN"
      },
      "execution_count": null,
      "outputs": []
    }
  ],
  "metadata": {
    "colab": {
      "collapsed_sections": [],
      "name": "Taraneh_Projeto (6).ipynb",
      "provenance": []
    },
    "kernelspec": {
      "display_name": "Python 3",
      "name": "python3"
    },
    "language_info": {
      "name": "python"
    }
  },
  "nbformat": 4,
  "nbformat_minor": 0
}